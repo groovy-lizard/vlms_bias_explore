{
 "cells": [
  {
   "cell_type": "code",
   "execution_count": 1,
   "metadata": {},
   "outputs": [],
   "source": [
    "import pandas as pd"
   ]
  },
  {
   "cell_type": "code",
   "execution_count": 2,
   "metadata": {},
   "outputs": [],
   "source": [
    "from bias_explorer.utils import dataloader\n",
    "from bias_explorer.operations import report"
   ]
  },
  {
   "cell_type": "code",
   "execution_count": 3,
   "metadata": {},
   "outputs": [],
   "source": [
    "sum_df = dataloader.load_df(\"data/fairface/results/openCLIP/ViT-L-14/commonpool_xl_s13b_b90k/sum_synms.csv\")\n",
    "top_df = dataloader.load_df(\"data/fairface/results/openCLIP/ViT-L-14/commonpool_xl_s13b_b90k/top_synms.csv\")"
   ]
  },
  {
   "cell_type": "code",
   "execution_count": 4,
   "metadata": {},
   "outputs": [
    {
     "name": "stdout",
     "output_type": "stream",
     "text": [
      "generating csv report\n"
     ]
    }
   ],
   "source": [
    "d = report.gen_csv_report(sum_df, top_df, 'oi')"
   ]
  },
  {
   "cell_type": "code",
   "execution_count": 5,
   "metadata": {},
   "outputs": [
    {
     "data": {
      "text/plain": [
       "{'Mode': ['Avg Sum', 'Top 1'],\n",
       " 'Accuracy': [0.9581887894832938, 0.9602884790943947],\n",
       " 'Male': [0.9356008287292817, 0.950103591160221],\n",
       " 'Female': [0.9835335141418055, 0.971716388996513],\n",
       " 'East Asian': [0.9490322580645161, 0.9535483870967741],\n",
       " 'White': [0.9649880095923261, 0.958273381294964],\n",
       " 'Latino_Hispanic': [0.9698089956869994, 0.9685767097966729],\n",
       " 'Southeast Asian': [0.942756183745583, 0.953356890459364],\n",
       " 'Black': [0.9318766066838047, 0.9395886889460154],\n",
       " 'Indian': [0.9689973614775725, 0.9722955145118733],\n",
       " 'Middle Eastern': [0.9809760132340778, 0.9809760132340778],\n",
       " '00-02': [0.7085427135678392, 0.7537688442211056],\n",
       " '03-09': [0.8974926253687315, 0.918141592920354],\n",
       " '10-19': [0.9441151566469094, 0.9483488569009314],\n",
       " '20-29': [0.9687878787878788, 0.9645454545454546],\n",
       " '30-39': [0.984549356223176, 0.9819742489270387],\n",
       " '40-49': [0.9815225424981523, 0.9830007390983001],\n",
       " '50-59': [0.9723618090452262, 0.9723618090452262],\n",
       " '60-69': [0.9906542056074766, 0.9875389408099688],\n",
       " 'more than 70': [0.9491525423728814, 0.9491525423728814]}"
      ]
     },
     "execution_count": 5,
     "metadata": {},
     "output_type": "execute_result"
    }
   ],
   "source": [
    "d"
   ]
  },
  {
   "cell_type": "code",
   "execution_count": 6,
   "metadata": {},
   "outputs": [],
   "source": [
    "df = pd.DataFrame(d)"
   ]
  },
  {
   "cell_type": "code",
   "execution_count": 7,
   "metadata": {},
   "outputs": [
    {
     "data": {
      "text/html": [
       "<div>\n",
       "<style scoped>\n",
       "    .dataframe tbody tr th:only-of-type {\n",
       "        vertical-align: middle;\n",
       "    }\n",
       "\n",
       "    .dataframe tbody tr th {\n",
       "        vertical-align: top;\n",
       "    }\n",
       "\n",
       "    .dataframe thead th {\n",
       "        text-align: right;\n",
       "    }\n",
       "</style>\n",
       "<table border=\"1\" class=\"dataframe\">\n",
       "  <thead>\n",
       "    <tr style=\"text-align: right;\">\n",
       "      <th></th>\n",
       "      <th>Mode</th>\n",
       "      <th>Accuracy</th>\n",
       "      <th>Male</th>\n",
       "      <th>Female</th>\n",
       "      <th>East Asian</th>\n",
       "      <th>White</th>\n",
       "      <th>Latino_Hispanic</th>\n",
       "      <th>Southeast Asian</th>\n",
       "      <th>Black</th>\n",
       "      <th>Indian</th>\n",
       "      <th>Middle Eastern</th>\n",
       "      <th>00-02</th>\n",
       "      <th>03-09</th>\n",
       "      <th>10-19</th>\n",
       "      <th>20-29</th>\n",
       "      <th>30-39</th>\n",
       "      <th>40-49</th>\n",
       "      <th>50-59</th>\n",
       "      <th>60-69</th>\n",
       "      <th>more than 70</th>\n",
       "    </tr>\n",
       "  </thead>\n",
       "  <tbody>\n",
       "    <tr>\n",
       "      <th>0</th>\n",
       "      <td>Avg Sum</td>\n",
       "      <td>0.958189</td>\n",
       "      <td>0.935601</td>\n",
       "      <td>0.983534</td>\n",
       "      <td>0.949032</td>\n",
       "      <td>0.964988</td>\n",
       "      <td>0.969809</td>\n",
       "      <td>0.942756</td>\n",
       "      <td>0.931877</td>\n",
       "      <td>0.968997</td>\n",
       "      <td>0.980976</td>\n",
       "      <td>0.708543</td>\n",
       "      <td>0.897493</td>\n",
       "      <td>0.944115</td>\n",
       "      <td>0.968788</td>\n",
       "      <td>0.984549</td>\n",
       "      <td>0.981523</td>\n",
       "      <td>0.972362</td>\n",
       "      <td>0.990654</td>\n",
       "      <td>0.949153</td>\n",
       "    </tr>\n",
       "    <tr>\n",
       "      <th>1</th>\n",
       "      <td>Top 1</td>\n",
       "      <td>0.960288</td>\n",
       "      <td>0.950104</td>\n",
       "      <td>0.971716</td>\n",
       "      <td>0.953548</td>\n",
       "      <td>0.958273</td>\n",
       "      <td>0.968577</td>\n",
       "      <td>0.953357</td>\n",
       "      <td>0.939589</td>\n",
       "      <td>0.972296</td>\n",
       "      <td>0.980976</td>\n",
       "      <td>0.753769</td>\n",
       "      <td>0.918142</td>\n",
       "      <td>0.948349</td>\n",
       "      <td>0.964545</td>\n",
       "      <td>0.981974</td>\n",
       "      <td>0.983001</td>\n",
       "      <td>0.972362</td>\n",
       "      <td>0.987539</td>\n",
       "      <td>0.949153</td>\n",
       "    </tr>\n",
       "  </tbody>\n",
       "</table>\n",
       "</div>"
      ],
      "text/plain": [
       "      Mode  Accuracy      Male    Female  East Asian     White  \\\n",
       "0  Avg Sum  0.958189  0.935601  0.983534    0.949032  0.964988   \n",
       "1    Top 1  0.960288  0.950104  0.971716    0.953548  0.958273   \n",
       "\n",
       "   Latino_Hispanic  Southeast Asian     Black    Indian  Middle Eastern  \\\n",
       "0         0.969809         0.942756  0.931877  0.968997        0.980976   \n",
       "1         0.968577         0.953357  0.939589  0.972296        0.980976   \n",
       "\n",
       "      00-02     03-09     10-19     20-29     30-39     40-49     50-59  \\\n",
       "0  0.708543  0.897493  0.944115  0.968788  0.984549  0.981523  0.972362   \n",
       "1  0.753769  0.918142  0.948349  0.964545  0.981974  0.983001  0.972362   \n",
       "\n",
       "      60-69  more than 70  \n",
       "0  0.990654      0.949153  \n",
       "1  0.987539      0.949153  "
      ]
     },
     "execution_count": 7,
     "metadata": {},
     "output_type": "execute_result"
    }
   ],
   "source": [
    "df"
   ]
  },
  {
   "cell_type": "code",
   "execution_count": 8,
   "metadata": {},
   "outputs": [
    {
     "data": {
      "text/html": [
       "<div>\n",
       "<style scoped>\n",
       "    .dataframe tbody tr th:only-of-type {\n",
       "        vertical-align: middle;\n",
       "    }\n",
       "\n",
       "    .dataframe tbody tr th {\n",
       "        vertical-align: top;\n",
       "    }\n",
       "\n",
       "    .dataframe thead th {\n",
       "        text-align: right;\n",
       "    }\n",
       "</style>\n",
       "<table border=\"1\" class=\"dataframe\">\n",
       "  <thead>\n",
       "    <tr style=\"text-align: right;\">\n",
       "      <th></th>\n",
       "      <th>file</th>\n",
       "      <th>age</th>\n",
       "      <th>gender</th>\n",
       "      <th>race</th>\n",
       "      <th>gender_preds</th>\n",
       "    </tr>\n",
       "  </thead>\n",
       "  <tbody>\n",
       "    <tr>\n",
       "      <th>0</th>\n",
       "      <td>val/1.jpg</td>\n",
       "      <td>3-9</td>\n",
       "      <td>Male</td>\n",
       "      <td>East Asian</td>\n",
       "      <td>Male</td>\n",
       "    </tr>\n",
       "    <tr>\n",
       "      <th>1</th>\n",
       "      <td>val/2.jpg</td>\n",
       "      <td>50-59</td>\n",
       "      <td>Female</td>\n",
       "      <td>East Asian</td>\n",
       "      <td>Female</td>\n",
       "    </tr>\n",
       "    <tr>\n",
       "      <th>2</th>\n",
       "      <td>val/3.jpg</td>\n",
       "      <td>30-39</td>\n",
       "      <td>Male</td>\n",
       "      <td>White</td>\n",
       "      <td>Male</td>\n",
       "    </tr>\n",
       "    <tr>\n",
       "      <th>3</th>\n",
       "      <td>val/4.jpg</td>\n",
       "      <td>20-29</td>\n",
       "      <td>Female</td>\n",
       "      <td>Latino_Hispanic</td>\n",
       "      <td>Female</td>\n",
       "    </tr>\n",
       "    <tr>\n",
       "      <th>4</th>\n",
       "      <td>val/5.jpg</td>\n",
       "      <td>20-29</td>\n",
       "      <td>Male</td>\n",
       "      <td>Southeast Asian</td>\n",
       "      <td>Male</td>\n",
       "    </tr>\n",
       "  </tbody>\n",
       "</table>\n",
       "</div>"
      ],
      "text/plain": [
       "        file    age  gender             race gender_preds\n",
       "0  val/1.jpg    3-9    Male       East Asian         Male\n",
       "1  val/2.jpg  50-59  Female       East Asian       Female\n",
       "2  val/3.jpg  30-39    Male            White         Male\n",
       "3  val/4.jpg  20-29  Female  Latino_Hispanic       Female\n",
       "4  val/5.jpg  20-29    Male  Southeast Asian         Male"
      ]
     },
     "execution_count": 8,
     "metadata": {},
     "output_type": "execute_result"
    }
   ],
   "source": [
    "sum_df.head()"
   ]
  },
  {
   "cell_type": "code",
   "execution_count": 9,
   "metadata": {},
   "outputs": [
    {
     "name": "stdout",
     "output_type": "stream",
     "text": [
      "['3-9', '50-59', '30-39', '20-29', 'more than 70', '40-49', '10-19', '60-69', '0-2']\n"
     ]
    }
   ],
   "source": [
    "print(list(sum_df['age'].unique()))"
   ]
  },
  {
   "cell_type": "code",
   "execution_count": 10,
   "metadata": {},
   "outputs": [],
   "source": [
    "def fix_age_order(age_list):\n",
    "    age_list[0] = '03-09'\n",
    "    age_list[-1] = '00-02'\n",
    "    age_list.sort()\n",
    "    return age_list\n"
   ]
  },
  {
   "cell_type": "code",
   "execution_count": 11,
   "metadata": {},
   "outputs": [
    {
     "name": "stdout",
     "output_type": "stream",
     "text": [
      "{'00-02': [], '03-09': [], '10-19': [], '20-29': [], '30-39': [], '40-49': [], '50-59': [], '60-69': [], 'more than 70': []}\n"
     ]
    }
   ],
   "source": [
    "rep_dict = {}\n",
    "uniques = list(sum_df['age'].unique())\n",
    "uniques[0] = '03-09'\n",
    "uniques[-1] = '00-02'\n",
    "uniques.sort()\n",
    "for unique in uniques:\n",
    "    rep_dict[unique] = []\n",
    "\n",
    "print(rep_dict)"
   ]
  },
  {
   "cell_type": "code",
   "execution_count": 12,
   "metadata": {},
   "outputs": [
    {
     "data": {
      "text/plain": [
       "['age', 'gender', 'race']"
      ]
     },
     "execution_count": 12,
     "metadata": {},
     "output_type": "execute_result"
    }
   ],
   "source": [
    "cols = list(sum_df.drop(columns=['file','gender_preds']).keys())\n",
    "cols"
   ]
  },
  {
   "cell_type": "code",
   "execution_count": 13,
   "metadata": {},
   "outputs": [
    {
     "data": {
      "text/plain": [
       "['gender', 'age', 'race']"
      ]
     },
     "execution_count": 13,
     "metadata": {},
     "output_type": "execute_result"
    }
   ],
   "source": [
    "i = cols.index(\"age\")\n",
    "j = cols.index(\"gender\")\n",
    "cols[i], cols[j] = cols[j], cols[i]\n",
    "cols"
   ]
  },
  {
   "cell_type": "code",
   "execution_count": 14,
   "metadata": {},
   "outputs": [],
   "source": [
    "def list_item_swap(list, i1, i2):\n",
    "    i = list.index(i1)\n",
    "    j = list.index(i2)\n",
    "    list[i], list[j] = list[j], list[i]\n",
    "    return list\n"
   ]
  }
 ],
 "metadata": {
  "kernelspec": {
   "display_name": "clipenv",
   "language": "python",
   "name": "python3"
  },
  "language_info": {
   "codemirror_mode": {
    "name": "ipython",
    "version": 3
   },
   "file_extension": ".py",
   "mimetype": "text/x-python",
   "name": "python",
   "nbconvert_exporter": "python",
   "pygments_lexer": "ipython3",
   "version": "3.8.18"
  }
 },
 "nbformat": 4,
 "nbformat_minor": 2
}
