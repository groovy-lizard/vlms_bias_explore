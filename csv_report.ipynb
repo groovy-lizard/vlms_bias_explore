{
 "cells": [
  {
   "cell_type": "code",
   "execution_count": 1,
   "metadata": {},
   "outputs": [],
   "source": [
    "import pandas as pd"
   ]
  },
  {
   "cell_type": "code",
   "execution_count": 2,
   "metadata": {},
   "outputs": [],
   "source": [
    "from bias_explorer.utils import dataloader, system\n",
    "from bias_explorer.operations import concatenate\n",
    "from main import load_config"
   ]
  },
  {
   "cell_type": "code",
   "execution_count": 3,
   "metadata": {},
   "outputs": [],
   "source": [
    "conf = load_config()"
   ]
  },
  {
   "cell_type": "code",
   "execution_count": 4,
   "metadata": {},
   "outputs": [
    {
     "data": {
      "text/plain": [
       "{'Operations': {'Generate': False,\n",
       "  'Evaluate': False,\n",
       "  'Report': True,\n",
       "  'Concatenate': True,\n",
       "  'Save_imgs': False},\n",
       " 'Model': 'openCLIP',\n",
       " 'Backbone': 'ViT-L-14',\n",
       " 'DataSource': ['openai',\n",
       "  'laion400m_e31',\n",
       "  'laion2b_s32b_b82k',\n",
       "  'datacomp_xl_s13b_b90k',\n",
       "  'commonpool_xl_s13b_b90k'],\n",
       " 'Target': 'Gender',\n",
       " 'Flags': ['no-baby'],\n",
       " 'Baseline': './data/fairface/fface_val.csv',\n",
       " 'Images': '/home/lucasmc/Documents/ufrgs/datasets/FairFace/val/',\n",
       " 'Embeddings': './data/fairface/embeddings',\n",
       " 'Labels': './data/fairface/labels/age_race_gender.json',\n",
       " 'Results': './data/fairface/results',\n",
       " 'Reports': './data/fairface/reports'}"
      ]
     },
     "execution_count": 4,
     "metadata": {},
     "output_type": "execute_result"
    }
   ],
   "source": [
    "conf"
   ]
  },
  {
   "cell_type": "code",
   "execution_count": 5,
   "metadata": {},
   "outputs": [
    {
     "name": "stdout",
     "output_type": "stream",
     "text": [
      "Collecting reports...\n"
     ]
    }
   ],
   "source": [
    "reports = concatenate.collect_reports(conf)"
   ]
  },
  {
   "cell_type": "code",
   "execution_count": 8,
   "metadata": {},
   "outputs": [
    {
     "data": {
      "text/html": [
       "<div>\n",
       "<style scoped>\n",
       "    .dataframe tbody tr th:only-of-type {\n",
       "        vertical-align: middle;\n",
       "    }\n",
       "\n",
       "    .dataframe tbody tr th {\n",
       "        vertical-align: top;\n",
       "    }\n",
       "\n",
       "    .dataframe thead th {\n",
       "        text-align: right;\n",
       "    }\n",
       "</style>\n",
       "<table border=\"1\" class=\"dataframe\">\n",
       "  <thead>\n",
       "    <tr style=\"text-align: right;\">\n",
       "      <th></th>\n",
       "      <th>Mode</th>\n",
       "      <th>Accuracy</th>\n",
       "      <th>Male</th>\n",
       "      <th>Female</th>\n",
       "      <th>East Asian</th>\n",
       "      <th>White</th>\n",
       "      <th>Latino_Hispanic</th>\n",
       "      <th>Southeast Asian</th>\n",
       "      <th>Black</th>\n",
       "      <th>Indian</th>\n",
       "      <th>Middle Eastern</th>\n",
       "      <th>00-02</th>\n",
       "      <th>03-09</th>\n",
       "      <th>10-19</th>\n",
       "      <th>20-29</th>\n",
       "      <th>30-39</th>\n",
       "      <th>40-49</th>\n",
       "      <th>50-59</th>\n",
       "      <th>60-69</th>\n",
       "      <th>more than 70</th>\n",
       "    </tr>\n",
       "  </thead>\n",
       "  <tbody>\n",
       "    <tr>\n",
       "      <th>0</th>\n",
       "      <td>Avg Sum</td>\n",
       "      <td>0.948695</td>\n",
       "      <td>0.955628</td>\n",
       "      <td>0.940914</td>\n",
       "      <td>0.952903</td>\n",
       "      <td>0.937170</td>\n",
       "      <td>0.939002</td>\n",
       "      <td>0.951943</td>\n",
       "      <td>0.929949</td>\n",
       "      <td>0.968338</td>\n",
       "      <td>0.971878</td>\n",
       "      <td>0.783920</td>\n",
       "      <td>0.921829</td>\n",
       "      <td>0.921253</td>\n",
       "      <td>0.947879</td>\n",
       "      <td>0.966094</td>\n",
       "      <td>0.969697</td>\n",
       "      <td>0.974874</td>\n",
       "      <td>0.981308</td>\n",
       "      <td>0.983051</td>\n",
       "    </tr>\n",
       "    <tr>\n",
       "      <th>1</th>\n",
       "      <td>Top 1</td>\n",
       "      <td>0.954355</td>\n",
       "      <td>0.953902</td>\n",
       "      <td>0.954862</td>\n",
       "      <td>0.958065</td>\n",
       "      <td>0.947242</td>\n",
       "      <td>0.950092</td>\n",
       "      <td>0.952650</td>\n",
       "      <td>0.938946</td>\n",
       "      <td>0.968338</td>\n",
       "      <td>0.971878</td>\n",
       "      <td>0.798995</td>\n",
       "      <td>0.926254</td>\n",
       "      <td>0.925487</td>\n",
       "      <td>0.957576</td>\n",
       "      <td>0.972103</td>\n",
       "      <td>0.971914</td>\n",
       "      <td>0.973618</td>\n",
       "      <td>0.981308</td>\n",
       "      <td>0.983051</td>\n",
       "    </tr>\n",
       "  </tbody>\n",
       "</table>\n",
       "</div>"
      ],
      "text/plain": [
       "      Mode  Accuracy      Male    Female  East Asian     White  \\\n",
       "0  Avg Sum  0.948695  0.955628  0.940914    0.952903  0.937170   \n",
       "1    Top 1  0.954355  0.953902  0.954862    0.958065  0.947242   \n",
       "\n",
       "   Latino_Hispanic  Southeast Asian     Black    Indian  Middle Eastern  \\\n",
       "0         0.939002         0.951943  0.929949  0.968338        0.971878   \n",
       "1         0.950092         0.952650  0.938946  0.968338        0.971878   \n",
       "\n",
       "      00-02     03-09     10-19     20-29     30-39     40-49     50-59  \\\n",
       "0  0.783920  0.921829  0.921253  0.947879  0.966094  0.969697  0.974874   \n",
       "1  0.798995  0.926254  0.925487  0.957576  0.972103  0.971914  0.973618   \n",
       "\n",
       "      60-69  more than 70  \n",
       "0  0.981308      0.983051  \n",
       "1  0.981308      0.983051  "
      ]
     },
     "execution_count": 8,
     "metadata": {},
     "output_type": "execute_result"
    }
   ],
   "source": [
    "reports['openai'].head()"
   ]
  },
  {
   "cell_type": "code",
   "execution_count": 15,
   "metadata": {},
   "outputs": [],
   "source": [
    "report_df = pd.concat(reports)\n",
    "report_df.rename(columns={\"Latino_Hispanic\": \"Latino Hispanic\"}, inplace=True)"
   ]
  },
  {
   "cell_type": "code",
   "execution_count": 26,
   "metadata": {},
   "outputs": [
    {
     "name": "stdout",
     "output_type": "stream",
     "text": [
      "['./data/fairface/reports/openCLIP/', \"/['openai', 'laion400m_e31', 'laion2b_s32b_b82k', 'datacomp_xl_s13b_b90k', 'commonpool_xl_s13b_b90k']\"]\n"
     ]
    }
   ],
   "source": [
    "report_root_path = system.make_out_path(conf, 'Reports')\n",
    "print(report_root_path.split(f\"{conf['Backbone']}\"))\n"
   ]
  },
  {
   "cell_type": "code",
   "execution_count": 28,
   "metadata": {},
   "outputs": [
    {
     "data": {
      "text/plain": [
       "'./data/fairface/reports/openCLIP/ViT-L-14'"
      ]
     },
     "execution_count": 28,
     "metadata": {},
     "output_type": "execute_result"
    }
   ],
   "source": [
    "f\"{conf['Reports']}/{conf['Model']}/{conf['Backbone']}\""
   ]
  }
 ],
 "metadata": {
  "kernelspec": {
   "display_name": "clipenv",
   "language": "python",
   "name": "python3"
  },
  "language_info": {
   "codemirror_mode": {
    "name": "ipython",
    "version": 3
   },
   "file_extension": ".py",
   "mimetype": "text/x-python",
   "name": "python",
   "nbconvert_exporter": "python",
   "pygments_lexer": "ipython3",
   "version": "3.8.18"
  }
 },
 "nbformat": 4,
 "nbformat_minor": 2
}
