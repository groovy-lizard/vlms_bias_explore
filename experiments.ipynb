{
 "cells": [
  {
   "cell_type": "code",
   "execution_count": 1,
   "metadata": {},
   "outputs": [],
   "source": [
    "import pandas as pd\n",
    "from sklearn.metrics import balanced_accuracy_score"
   ]
  },
  {
   "cell_type": "code",
   "execution_count": 2,
   "metadata": {},
   "outputs": [],
   "source": [
    "from bias_explorer.utils import dataloader, system"
   ]
  },
  {
   "cell_type": "code",
   "execution_count": 6,
   "metadata": {},
   "outputs": [],
   "source": [
    "conf = dataloader.load_config()\n",
    "conf['DataSource'] = 'openai'"
   ]
  },
  {
   "cell_type": "code",
   "execution_count": 7,
   "metadata": {},
   "outputs": [],
   "source": [
    "embs_path = system.concat_out_path(conf, 'Embeddings')"
   ]
  },
  {
   "cell_type": "code",
   "execution_count": 8,
   "metadata": {},
   "outputs": [
    {
     "data": {
      "text/plain": [
       "'./data/fairface/embeddings/openCLIP/ViT-L-14/openai'"
      ]
     },
     "execution_count": 8,
     "metadata": {},
     "output_type": "execute_result"
    }
   ],
   "source": [
    "embs_path"
   ]
  },
  {
   "cell_type": "code",
   "execution_count": 9,
   "metadata": {},
   "outputs": [],
   "source": [
    "img_embs, txt_embs = dataloader.load_embs(\n",
    "    img_path=f\"{embs_path}/generated_img_embs.pkl\",\n",
    "    txt_path=f\"{embs_path}/generated_txt_embs.pt\")"
   ]
  },
  {
   "cell_type": "code",
   "execution_count": 11,
   "metadata": {},
   "outputs": [
    {
     "data": {
      "text/plain": [
       "tensor([[-3.1917e-02,  3.3783e-02,  1.7525e-02,  ...,  3.9485e-02,\n",
       "          2.4227e-02,  1.1506e-02],\n",
       "        [-1.8954e-02,  2.2153e-02,  9.2935e-03,  ...,  1.7378e-02,\n",
       "          2.5819e-02,  7.4535e-03],\n",
       "        [-2.5886e-02,  1.8456e-02,  2.1814e-02,  ...,  3.9270e-02,\n",
       "          3.0251e-02,  8.6795e-03],\n",
       "        ...,\n",
       "        [-6.4773e-03, -1.5712e-02,  7.8042e-03,  ..., -9.2943e-03,\n",
       "          8.8859e-03, -2.0537e-02],\n",
       "        [-1.6342e-02,  1.1736e-02, -1.7738e-03,  ...,  2.4329e-03,\n",
       "          5.6275e-05,  5.0944e-02],\n",
       "        [ 9.4754e-03,  4.1823e-03, -7.3535e-03,  ..., -2.2710e-02,\n",
       "         -1.0341e-02,  3.7741e-02]], device='cuda:0')"
      ]
     },
     "execution_count": 11,
     "metadata": {},
     "output_type": "execute_result"
    }
   ],
   "source": [
    "txt_embs"
   ]
  }
 ],
 "metadata": {
  "kernelspec": {
   "display_name": "clipenv",
   "language": "python",
   "name": "python3"
  },
  "language_info": {
   "codemirror_mode": {
    "name": "ipython",
    "version": 3
   },
   "file_extension": ".py",
   "mimetype": "text/x-python",
   "name": "python",
   "nbconvert_exporter": "python",
   "pygments_lexer": "ipython3",
   "version": "3.8.18"
  }
 },
 "nbformat": 4,
 "nbformat_minor": 2
}
