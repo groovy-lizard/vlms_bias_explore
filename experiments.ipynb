{
 "cells": [
  {
   "cell_type": "code",
   "execution_count": 2,
   "metadata": {},
   "outputs": [],
   "source": [
    "import pandas as pd\n",
    "from sklearn.metrics import balanced_accuracy_score"
   ]
  },
  {
   "cell_type": "code",
   "execution_count": 3,
   "metadata": {},
   "outputs": [],
   "source": [
    "from bias_explorer.utils import dataloader, system\n",
    "from bias_explorer.operations import report"
   ]
  },
  {
   "cell_type": "code",
   "execution_count": 4,
   "metadata": {},
   "outputs": [],
   "source": [
    "conf = dataloader.load_config()"
   ]
  },
  {
   "cell_type": "code",
   "execution_count": 5,
   "metadata": {},
   "outputs": [],
   "source": [
    "df = dataloader.load_df(\n",
    "    df_path=\"/home/lucasmc/Documents/ufrgs/vlms_bias_explorer/data/fairface/results/openCLIP/ViT-L-14/openai/top_synms.csv\")"
   ]
  },
  {
   "cell_type": "code",
   "execution_count": 6,
   "metadata": {},
   "outputs": [],
   "source": [
    "rep = dataloader.load_df(\n",
    "    \"/home/lucasmc/Documents/ufrgs/vlms_bias_explorer/data/fairface/reports/openCLIP/ViT-L-14/openai/raw_gender_labels/accuracy_report.csv\")"
   ]
  },
  {
   "cell_type": "code",
   "execution_count": 7,
   "metadata": {},
   "outputs": [
    {
     "data": {
      "text/html": [
       "<div>\n",
       "<style scoped>\n",
       "    .dataframe tbody tr th:only-of-type {\n",
       "        vertical-align: middle;\n",
       "    }\n",
       "\n",
       "    .dataframe tbody tr th {\n",
       "        vertical-align: top;\n",
       "    }\n",
       "\n",
       "    .dataframe thead th {\n",
       "        text-align: right;\n",
       "    }\n",
       "</style>\n",
       "<table border=\"1\" class=\"dataframe\">\n",
       "  <thead>\n",
       "    <tr style=\"text-align: right;\">\n",
       "      <th></th>\n",
       "      <th>Unnamed: 0</th>\n",
       "      <th>Mode</th>\n",
       "      <th>accuracy</th>\n",
       "      <th>Male</th>\n",
       "      <th>Female</th>\n",
       "      <th>East Asian</th>\n",
       "      <th>White</th>\n",
       "      <th>Latino_Hispanic</th>\n",
       "      <th>Southeast Asian</th>\n",
       "      <th>Black</th>\n",
       "      <th>...</th>\n",
       "      <th>Middle Eastern</th>\n",
       "      <th>0-2</th>\n",
       "      <th>3-9</th>\n",
       "      <th>10-19</th>\n",
       "      <th>20-29</th>\n",
       "      <th>30-39</th>\n",
       "      <th>40-49</th>\n",
       "      <th>50-59</th>\n",
       "      <th>60-69</th>\n",
       "      <th>more than 70</th>\n",
       "    </tr>\n",
       "  </thead>\n",
       "  <tbody>\n",
       "    <tr>\n",
       "      <th>0</th>\n",
       "      <td>0</td>\n",
       "      <td>Avg Sum</td>\n",
       "      <td>0.528757</td>\n",
       "      <td>1.0</td>\n",
       "      <td>0.0</td>\n",
       "      <td>0.50129</td>\n",
       "      <td>0.538129</td>\n",
       "      <td>0.488601</td>\n",
       "      <td>0.519435</td>\n",
       "      <td>0.513496</td>\n",
       "      <td>...</td>\n",
       "      <td>0.672457</td>\n",
       "      <td>0.61809</td>\n",
       "      <td>0.54646</td>\n",
       "      <td>0.46486</td>\n",
       "      <td>0.444848</td>\n",
       "      <td>0.56309</td>\n",
       "      <td>0.617886</td>\n",
       "      <td>0.623116</td>\n",
       "      <td>0.64486</td>\n",
       "      <td>0.508475</td>\n",
       "    </tr>\n",
       "    <tr>\n",
       "      <th>1</th>\n",
       "      <td>1</td>\n",
       "      <td>Top 1</td>\n",
       "      <td>0.528757</td>\n",
       "      <td>1.0</td>\n",
       "      <td>0.0</td>\n",
       "      <td>0.50129</td>\n",
       "      <td>0.538129</td>\n",
       "      <td>0.488601</td>\n",
       "      <td>0.519435</td>\n",
       "      <td>0.513496</td>\n",
       "      <td>...</td>\n",
       "      <td>0.672457</td>\n",
       "      <td>0.61809</td>\n",
       "      <td>0.54646</td>\n",
       "      <td>0.46486</td>\n",
       "      <td>0.444848</td>\n",
       "      <td>0.56309</td>\n",
       "      <td>0.617886</td>\n",
       "      <td>0.623116</td>\n",
       "      <td>0.64486</td>\n",
       "      <td>0.508475</td>\n",
       "    </tr>\n",
       "  </tbody>\n",
       "</table>\n",
       "<p>2 rows × 21 columns</p>\n",
       "</div>"
      ],
      "text/plain": [
       "   Unnamed: 0     Mode  accuracy  Male  Female  East Asian     White  \\\n",
       "0           0  Avg Sum  0.528757   1.0     0.0     0.50129  0.538129   \n",
       "1           1    Top 1  0.528757   1.0     0.0     0.50129  0.538129   \n",
       "\n",
       "   Latino_Hispanic  Southeast Asian     Black  ...  Middle Eastern      0-2  \\\n",
       "0         0.488601         0.519435  0.513496  ...        0.672457  0.61809   \n",
       "1         0.488601         0.519435  0.513496  ...        0.672457  0.61809   \n",
       "\n",
       "       3-9    10-19     20-29    30-39     40-49     50-59    60-69  \\\n",
       "0  0.54646  0.46486  0.444848  0.56309  0.617886  0.623116  0.64486   \n",
       "1  0.54646  0.46486  0.444848  0.56309  0.617886  0.623116  0.64486   \n",
       "\n",
       "   more than 70  \n",
       "0      0.508475  \n",
       "1      0.508475  \n",
       "\n",
       "[2 rows x 21 columns]"
      ]
     },
     "execution_count": 7,
     "metadata": {},
     "output_type": "execute_result"
    }
   ],
   "source": [
    "rep.head()"
   ]
  },
  {
   "cell_type": "code",
   "execution_count": 8,
   "metadata": {},
   "outputs": [
    {
     "data": {
      "text/html": [
       "<div>\n",
       "<style scoped>\n",
       "    .dataframe tbody tr th:only-of-type {\n",
       "        vertical-align: middle;\n",
       "    }\n",
       "\n",
       "    .dataframe tbody tr th {\n",
       "        vertical-align: top;\n",
       "    }\n",
       "\n",
       "    .dataframe thead th {\n",
       "        text-align: right;\n",
       "    }\n",
       "</style>\n",
       "<table border=\"1\" class=\"dataframe\">\n",
       "  <thead>\n",
       "    <tr style=\"text-align: right;\">\n",
       "      <th></th>\n",
       "      <th>file</th>\n",
       "      <th>age</th>\n",
       "      <th>gender</th>\n",
       "      <th>race</th>\n",
       "      <th>gender_preds</th>\n",
       "      <th>synm</th>\n",
       "    </tr>\n",
       "  </thead>\n",
       "  <tbody>\n",
       "    <tr>\n",
       "      <th>0</th>\n",
       "      <td>val/1.jpg</td>\n",
       "      <td>3-9</td>\n",
       "      <td>Male</td>\n",
       "      <td>East Asian</td>\n",
       "      <td>Male</td>\n",
       "      <td>a photo of a man</td>\n",
       "    </tr>\n",
       "    <tr>\n",
       "      <th>1</th>\n",
       "      <td>val/2.jpg</td>\n",
       "      <td>50-59</td>\n",
       "      <td>Female</td>\n",
       "      <td>East Asian</td>\n",
       "      <td>Male</td>\n",
       "      <td>a photo of a man</td>\n",
       "    </tr>\n",
       "    <tr>\n",
       "      <th>2</th>\n",
       "      <td>val/3.jpg</td>\n",
       "      <td>30-39</td>\n",
       "      <td>Male</td>\n",
       "      <td>White</td>\n",
       "      <td>Male</td>\n",
       "      <td>a photo of a man</td>\n",
       "    </tr>\n",
       "    <tr>\n",
       "      <th>3</th>\n",
       "      <td>val/4.jpg</td>\n",
       "      <td>20-29</td>\n",
       "      <td>Female</td>\n",
       "      <td>Latino_Hispanic</td>\n",
       "      <td>Male</td>\n",
       "      <td>a photo of a woman</td>\n",
       "    </tr>\n",
       "    <tr>\n",
       "      <th>4</th>\n",
       "      <td>val/5.jpg</td>\n",
       "      <td>20-29</td>\n",
       "      <td>Male</td>\n",
       "      <td>Southeast Asian</td>\n",
       "      <td>Male</td>\n",
       "      <td>a photo of a man</td>\n",
       "    </tr>\n",
       "  </tbody>\n",
       "</table>\n",
       "</div>"
      ],
      "text/plain": [
       "        file    age  gender             race gender_preds                synm\n",
       "0  val/1.jpg    3-9    Male       East Asian         Male    a photo of a man\n",
       "1  val/2.jpg  50-59  Female       East Asian         Male    a photo of a man\n",
       "2  val/3.jpg  30-39    Male            White         Male    a photo of a man\n",
       "3  val/4.jpg  20-29  Female  Latino_Hispanic         Male  a photo of a woman\n",
       "4  val/5.jpg  20-29    Male  Southeast Asian         Male    a photo of a man"
      ]
     },
     "execution_count": 8,
     "metadata": {},
     "output_type": "execute_result"
    }
   ],
   "source": [
    "df.head()"
   ]
  },
  {
   "cell_type": "code",
   "execution_count": 9,
   "metadata": {},
   "outputs": [
    {
     "name": "stdout",
     "output_type": "stream",
     "text": [
      "0.5\n"
     ]
    }
   ],
   "source": [
    "white_df = report.filter_df(df, 'race', 'White')\n",
    "print(report.gender_eval(df, balanced_accuracy_score))"
   ]
  },
  {
   "cell_type": "code",
   "execution_count": 10,
   "metadata": {},
   "outputs": [],
   "source": [
    "prompts, _ = dataloader.load_txts(conf['Labels'])"
   ]
  },
  {
   "cell_type": "code",
   "execution_count": 11,
   "metadata": {},
   "outputs": [
    {
     "data": {
      "text/plain": [
       "['a photo of a man', 'a photo of a woman']"
      ]
     },
     "execution_count": 11,
     "metadata": {},
     "output_type": "execute_result"
    }
   ],
   "source": [
    "prompts"
   ]
  },
  {
   "cell_type": "code",
   "execution_count": 13,
   "metadata": {},
   "outputs": [],
   "source": [
    "if \"woman\" in prompts[0]:\n",
    "    print(\"woman found\")"
   ]
  }
 ],
 "metadata": {
  "kernelspec": {
   "display_name": "clipenv",
   "language": "python",
   "name": "python3"
  },
  "language_info": {
   "codemirror_mode": {
    "name": "ipython",
    "version": 3
   },
   "file_extension": ".py",
   "mimetype": "text/x-python",
   "name": "python",
   "nbconvert_exporter": "python",
   "pygments_lexer": "ipython3",
   "version": "3.8.18"
  }
 },
 "nbformat": 4,
 "nbformat_minor": 2
}
