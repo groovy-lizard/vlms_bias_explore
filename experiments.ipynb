{
 "cells": [
  {
   "cell_type": "code",
   "execution_count": 1,
   "metadata": {},
   "outputs": [],
   "source": [
    "import json\n",
    "import numpy as np\n",
    "from bias_explorer.operations import report\n",
    "from bias_explorer.utils import system, dataloader\n",
    "import glob"
   ]
  },
  {
   "cell_type": "code",
   "execution_count": 2,
   "metadata": {},
   "outputs": [],
   "source": [
    "predictions_path = \"./data/fairface/predictions/openCLIP/ViT-L-14/commonpool_xl_s13b_b90k/age_race_gender/\""
   ]
  },
  {
   "cell_type": "code",
   "execution_count": 3,
   "metadata": {},
   "outputs": [],
   "source": [
    "def get_topk_preds(preds_path):\n",
    "    preds_list = glob.glob(predictions_path + 'top*.csv')\n",
    "    k_preds = {}\n",
    "    for pred in preds_list:\n",
    "        fname = pred.split(\"/\")[-1]\n",
    "        name_parts = fname.split(\"_\")\n",
    "        if len(name_parts) > 2:\n",
    "            k = name_parts[1]\n",
    "        else:\n",
    "            k = 1\n",
    "        k_preds[k] = pred\n",
    "    return k_preds"
   ]
  },
  {
   "cell_type": "code",
   "execution_count": 4,
   "metadata": {},
   "outputs": [
    {
     "name": "stdout",
     "output_type": "stream",
     "text": [
      "{1: './data/fairface/predictions/openCLIP/ViT-L-14/commonpool_xl_s13b_b90k/age_race_gender/top_synms.csv', '2': './data/fairface/predictions/openCLIP/ViT-L-14/commonpool_xl_s13b_b90k/age_race_gender/top_2_synms.csv'}\n"
     ]
    }
   ],
   "source": [
    "print(get_topk_preds(predictions_path))"
   ]
  },
  {
   "cell_type": "code",
   "execution_count": 8,
   "metadata": {},
   "outputs": [],
   "source": [
    "avg_path = predictions_path + \"sum_synms.csv\"\n",
    "mode_name = \"Avg Sum\"\n",
    "metric_name = \"accuracy\"\n",
    "sum_df = dataloader.load_df(avg_path)"
   ]
  },
  {
   "cell_type": "code",
   "execution_count": 20,
   "metadata": {},
   "outputs": [],
   "source": [
    "def get_col_list(df, metric_name):\n",
    "    if metric_name == \"balanced_accuracy\":\n",
    "        col_list = list(df.drop(\n",
    "            columns=['file', 'gender_preds', 'gender']).keys())\n",
    "    else:\n",
    "        col_list = list(df.drop(columns=['file', 'gender_preds']).keys())\n",
    "        col_list = system.list_item_swap(col_list, 'age', 'gender')\n",
    "    col_list = system.list_item_swap(col_list, 'age', 'race')\n",
    "    return col_list"
   ]
  },
  {
   "cell_type": "code",
   "execution_count": 23,
   "metadata": {},
   "outputs": [],
   "source": [
    "def get_uniques(df, col_list):\n",
    "    uniques = []\n",
    "    for col in col_list:\n",
    "        col_items = list(df[col].unique())\n",
    "        if col == \"age\":\n",
    "            col_items = system.fix_age_order(col_items)\n",
    "        for unique in col_items:\n",
    "            if col == \"age\" and unique == \"00-02\":\n",
    "                unique = \"0-2\"\n",
    "            elif col == \"age\" and unique == \"03-09\":\n",
    "                unique = \"3-9\"\n",
    "            uniques.append(unique)\n",
    "    return uniques"
   ]
  },
  {
   "cell_type": "code",
   "execution_count": 24,
   "metadata": {},
   "outputs": [
    {
     "name": "stdout",
     "output_type": "stream",
     "text": [
      "['Male', 'Female', 'East Asian', 'White', 'Latino_Hispanic', 'Southeast Asian', 'Black', 'Indian', 'Middle Eastern', '0-2', '3-9', '10-19', '20-29', '30-39', '40-49', '50-59', '60-69', 'more than 70']\n",
      "['gender', 'race', 'age']\n"
     ]
    }
   ],
   "source": [
    "report_dict = {\n",
    "    'Mode': [],\n",
    "    metric_name: [],\n",
    "}\n",
    "\n",
    "col_list = get_col_list(sum_df, metric_name)\n",
    "uniques = get_uniques(sum_df, col_list)\n",
    "print(uniques)\n",
    "print(col_list)"
   ]
  },
  {
   "cell_type": "code",
   "execution_count": 14,
   "metadata": {},
   "outputs": [],
   "source": [
    "# gen_dict_report\n",
    "def gen_dict_report(df, mode_name, metric_name):\n",
    "    metric_func = report.metric_loader(metric_name)\n",
    "    rep_dict = {}\n",
    "    rep_dict['Mode'] = mode_name\n",
    "    rep_dict[metric_name] = report.gender_eval(df, metric_func)\n",
    "    col_list = get_col_list(df, metric_name)\n",
    "    uniques = get_uniques(df, col_list)\n",
    "    for col in col_list:\n",
    "        for unique in uniques:\n",
    "            col_df = report.filter_df(df, col, unique)\n",
    "            col_acc = report.gender_eval(col_df, metric_func)\n",
    "            rep_dict[unique] = col_acc\n",
    "    return rep_dict"
   ]
  },
  {
   "cell_type": "code",
   "execution_count": 15,
   "metadata": {},
   "outputs": [],
   "source": [
    "rep_dict = gen_dict_report(sum_df, 'Avg Sum', 'accuracy')"
   ]
  },
  {
   "cell_type": "code",
   "execution_count": 16,
   "metadata": {},
   "outputs": [
    {
     "data": {
      "text/plain": [
       "{'Mode': 'Avg Sum',\n",
       " 'accuracy': 0.9582,\n",
       " 'Male': 0.9356,\n",
       " 'Female': 0.9835,\n",
       " 'East Asian': 0.949,\n",
       " 'White': 0.965,\n",
       " 'Latino_Hispanic': 0.9698,\n",
       " 'Southeast Asian': 0.9428,\n",
       " 'Black': 0.9319,\n",
       " 'Indian': 0.969,\n",
       " 'Middle Eastern': 0.981,\n",
       " '0-2': 0.7085,\n",
       " '3-9': 0.8975,\n",
       " '10-19': 0.9441,\n",
       " '20-29': 0.9688,\n",
       " '30-39': 0.9845,\n",
       " '40-49': 0.9815,\n",
       " '50-59': 0.9724,\n",
       " '60-69': 0.9907,\n",
       " 'more than 70': 0.9492}"
      ]
     },
     "execution_count": 16,
     "metadata": {},
     "output_type": "execute_result"
    }
   ],
   "source": [
    "rep_dict"
   ]
  }
 ],
 "metadata": {
  "kernelspec": {
   "display_name": "clipenv",
   "language": "python",
   "name": "python3"
  },
  "language_info": {
   "codemirror_mode": {
    "name": "ipython",
    "version": 3
   },
   "file_extension": ".py",
   "mimetype": "text/x-python",
   "name": "python",
   "nbconvert_exporter": "python",
   "pygments_lexer": "ipython3",
   "version": "3.8.18"
  }
 },
 "nbformat": 4,
 "nbformat_minor": 2
}
