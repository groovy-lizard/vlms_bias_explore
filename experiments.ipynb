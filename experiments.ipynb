{
 "cells": [
  {
   "cell_type": "code",
   "execution_count": 18,
   "metadata": {},
   "outputs": [],
   "source": [
    "import json\n",
    "import numpy as np\n",
    "from bias_explorer.operations import predict"
   ]
  },
  {
   "cell_type": "code",
   "execution_count": 2,
   "metadata": {},
   "outputs": [],
   "source": [
    "path = './data/fairface/predictions/openCLIP/ViT-L-14/openai/age_race_gender/similarities.json'\n",
    "with open(path) as file:\n",
    "    filec = file.read()\n",
    "sims_dict = json.loads(filec)"
   ]
  },
  {
   "cell_type": "code",
   "execution_count": 3,
   "metadata": {},
   "outputs": [],
   "source": [
    "for val in sims_dict.values():\n",
    "    wl, ml = predict.split_man_woman(val)\n",
    "    break"
   ]
  },
  {
   "cell_type": "code",
   "execution_count": 27,
   "metadata": {},
   "outputs": [],
   "source": [
    "def get_k_score(tuple_list, k):\n",
    "    scores = []\n",
    "    for tup in tuple_list:\n",
    "        scores.append(tup[1])\n",
    "    scores = sorted(scores, reverse=True)\n",
    "    return sum(scores[:k])"
   ]
  }
 ],
 "metadata": {
  "kernelspec": {
   "display_name": "clipenv",
   "language": "python",
   "name": "python3"
  },
  "language_info": {
   "codemirror_mode": {
    "name": "ipython",
    "version": 3
   },
   "file_extension": ".py",
   "mimetype": "text/x-python",
   "name": "python",
   "nbconvert_exporter": "python",
   "pygments_lexer": "ipython3",
   "version": "3.8.18"
  }
 },
 "nbformat": 4,
 "nbformat_minor": 2
}
