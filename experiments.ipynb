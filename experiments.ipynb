{
 "cells": [
  {
   "cell_type": "code",
   "execution_count": 14,
   "metadata": {},
   "outputs": [],
   "source": [
    "import json\n",
    "import numpy as np\n",
    "from bias_explorer.operations import report\n",
    "from bias_explorer.utils import system, dataloader\n",
    "import glob\n",
    "import pandas as pd"
   ]
  },
  {
   "cell_type": "code",
   "execution_count": 2,
   "metadata": {},
   "outputs": [],
   "source": [
    "predictions_path = \"./data/fairface/predictions/openCLIP/ViT-L-14/commonpool_xl_s13b_b90k/age_race_gender/\""
   ]
  },
  {
   "cell_type": "code",
   "execution_count": 3,
   "metadata": {},
   "outputs": [],
   "source": [
    "def get_topk_preds(preds_path):\n",
    "    preds_list = glob.glob(predictions_path + 'top*.csv')\n",
    "    k_preds = {}\n",
    "    for pred in preds_list:\n",
    "        fname = pred.split(\"/\")[-1]\n",
    "        name_parts = fname.split(\"_\")\n",
    "        if len(name_parts) > 2:\n",
    "            k = name_parts[1]\n",
    "        else:\n",
    "            k = 1\n",
    "        k_preds[k] = pred\n",
    "    return k_preds"
   ]
  },
  {
   "cell_type": "code",
   "execution_count": 4,
   "metadata": {},
   "outputs": [],
   "source": [
    "avg_path = predictions_path + \"sum_synms.csv\"\n",
    "mode_name = \"Avg Sum\"\n",
    "metric_name = \"accuracy\"\n",
    "sum_df = dataloader.load_df(avg_path)"
   ]
  },
  {
   "cell_type": "code",
   "execution_count": 5,
   "metadata": {},
   "outputs": [],
   "source": [
    "def get_col_list(df, metric_name):\n",
    "    if metric_name == \"balanced_accuracy\":\n",
    "        col_list = list(df.drop(\n",
    "            columns=['file', 'gender_preds', 'gender']).keys())\n",
    "    else:\n",
    "        col_list = list(df.drop(columns=['file', 'gender_preds']).keys())\n",
    "        col_list = system.list_item_swap(col_list, 'age', 'gender')\n",
    "    col_list = system.list_item_swap(col_list, 'age', 'race')\n",
    "    return col_list"
   ]
  },
  {
   "cell_type": "code",
   "execution_count": 6,
   "metadata": {},
   "outputs": [],
   "source": [
    "def get_uniques(df, col_list):\n",
    "    uniques = []\n",
    "    for col in col_list:\n",
    "        col_items = list(df[col].unique())\n",
    "        if col == \"age\":\n",
    "            col_items = system.fix_age_order(col_items)\n",
    "        for unique in col_items:\n",
    "            if col == \"age\" and unique == \"00-02\":\n",
    "                unique = \"0-2\"\n",
    "            elif col == \"age\" and unique == \"03-09\":\n",
    "                unique = \"3-9\"\n",
    "            uniques.append(unique)\n",
    "    return uniques"
   ]
  },
  {
   "cell_type": "code",
   "execution_count": 7,
   "metadata": {},
   "outputs": [],
   "source": [
    "def get_empty_report_dict(df, metric_name):\n",
    "    report_dict = {\n",
    "        'Mode': [],\n",
    "        metric_name: [],\n",
    "    }\n",
    "\n",
    "    col_list = get_col_list(df, metric_name)\n",
    "    uniques = get_uniques(df, col_list)\n",
    "    for unique in uniques:\n",
    "        report_dict[unique] = []\n",
    "    return report_dict"
   ]
  },
  {
   "cell_type": "code",
   "execution_count": 8,
   "metadata": {},
   "outputs": [],
   "source": [
    "# gen_dict_report\n",
    "def gen_dict_report(df, mode_name, metric_name, rep_dict):\n",
    "    metric_func = report.metric_loader(metric_name)\n",
    "    rep_dict['Mode'].append(mode_name)\n",
    "    rep_dict[metric_name].append(report.gender_eval(df, metric_func))\n",
    "    col_list = get_col_list(df, metric_name)\n",
    "    for col in col_list:\n",
    "        uniques = get_uniques(df, [col])\n",
    "        for unique in uniques:\n",
    "            col_df = report.filter_df(df, col, unique)\n",
    "            col_acc = report.gender_eval(col_df, metric_func)\n",
    "            rep_dict[unique].append(col_acc)\n",
    "    return rep_dict"
   ]
  },
  {
   "cell_type": "code",
   "execution_count": 9,
   "metadata": {},
   "outputs": [
    {
     "data": {
      "text/plain": [
       "{'Mode': ['Avg Sum'],\n",
       " 'accuracy': [0.9582],\n",
       " 'Male': [0.9356],\n",
       " 'Female': [0.9835],\n",
       " 'East Asian': [0.949],\n",
       " 'White': [0.965],\n",
       " 'Latino_Hispanic': [0.9698],\n",
       " 'Southeast Asian': [0.9428],\n",
       " 'Black': [0.9319],\n",
       " 'Indian': [0.969],\n",
       " 'Middle Eastern': [0.981],\n",
       " '0-2': [0.7085],\n",
       " '3-9': [0.8975],\n",
       " '10-19': [0.9441],\n",
       " '20-29': [0.9688],\n",
       " '30-39': [0.9845],\n",
       " '40-49': [0.9815],\n",
       " '50-59': [0.9724],\n",
       " '60-69': [0.9907],\n",
       " 'more than 70': [0.9492]}"
      ]
     },
     "execution_count": 9,
     "metadata": {},
     "output_type": "execute_result"
    }
   ],
   "source": [
    "rep_dict = get_empty_report_dict(sum_df, metric_name)\n",
    "rep_dict = gen_dict_report(sum_df, 'Avg Sum', 'accuracy', rep_dict)\n",
    "rep_dict"
   ]
  },
  {
   "cell_type": "code",
   "execution_count": 10,
   "metadata": {},
   "outputs": [],
   "source": [
    "k_preds = get_topk_preds(predictions_path)"
   ]
  },
  {
   "cell_type": "code",
   "execution_count": 13,
   "metadata": {},
   "outputs": [
    {
     "name": "stdout",
     "output_type": "stream",
     "text": [
      "{'2': './data/fairface/predictions/openCLIP/ViT-L-14/commonpool_xl_s13b_b90k/age_race_gender/top_2_synms.csv', '1': './data/fairface/predictions/openCLIP/ViT-L-14/commonpool_xl_s13b_b90k/age_race_gender/top_1_synms.csv'}\n"
     ]
    }
   ],
   "source": [
    "print(k_preds)"
   ]
  },
  {
   "cell_type": "code",
   "execution_count": 11,
   "metadata": {},
   "outputs": [],
   "source": [
    "for k, path in k_preds.items():\n",
    "    mode_name = f\"Top {k}\"\n",
    "    k_df = dataloader.load_df(path)\n",
    "    rep_dict = gen_dict_report(k_df, mode_name, metric_name, rep_dict)"
   ]
  },
  {
   "cell_type": "code",
   "execution_count": 15,
   "metadata": {},
   "outputs": [
    {
     "data": {
      "text/html": [
       "<div>\n",
       "<style scoped>\n",
       "    .dataframe tbody tr th:only-of-type {\n",
       "        vertical-align: middle;\n",
       "    }\n",
       "\n",
       "    .dataframe tbody tr th {\n",
       "        vertical-align: top;\n",
       "    }\n",
       "\n",
       "    .dataframe thead th {\n",
       "        text-align: right;\n",
       "    }\n",
       "</style>\n",
       "<table border=\"1\" class=\"dataframe\">\n",
       "  <thead>\n",
       "    <tr style=\"text-align: right;\">\n",
       "      <th></th>\n",
       "      <th>Mode</th>\n",
       "      <th>accuracy</th>\n",
       "      <th>Male</th>\n",
       "      <th>Female</th>\n",
       "      <th>East Asian</th>\n",
       "      <th>White</th>\n",
       "      <th>Latino_Hispanic</th>\n",
       "      <th>Southeast Asian</th>\n",
       "      <th>Black</th>\n",
       "      <th>Indian</th>\n",
       "      <th>Middle Eastern</th>\n",
       "      <th>0-2</th>\n",
       "      <th>3-9</th>\n",
       "      <th>10-19</th>\n",
       "      <th>20-29</th>\n",
       "      <th>30-39</th>\n",
       "      <th>40-49</th>\n",
       "      <th>50-59</th>\n",
       "      <th>60-69</th>\n",
       "      <th>more than 70</th>\n",
       "    </tr>\n",
       "  </thead>\n",
       "  <tbody>\n",
       "    <tr>\n",
       "      <th>0</th>\n",
       "      <td>Avg Sum</td>\n",
       "      <td>0.9582</td>\n",
       "      <td>0.9356</td>\n",
       "      <td>0.9835</td>\n",
       "      <td>0.9490</td>\n",
       "      <td>0.9650</td>\n",
       "      <td>0.9698</td>\n",
       "      <td>0.9428</td>\n",
       "      <td>0.9319</td>\n",
       "      <td>0.9690</td>\n",
       "      <td>0.981</td>\n",
       "      <td>0.7085</td>\n",
       "      <td>0.8975</td>\n",
       "      <td>0.9441</td>\n",
       "      <td>0.9688</td>\n",
       "      <td>0.9845</td>\n",
       "      <td>0.9815</td>\n",
       "      <td>0.9724</td>\n",
       "      <td>0.9907</td>\n",
       "      <td>0.9492</td>\n",
       "    </tr>\n",
       "    <tr>\n",
       "      <th>1</th>\n",
       "      <td>Top 2</td>\n",
       "      <td>0.9609</td>\n",
       "      <td>0.9498</td>\n",
       "      <td>0.9735</td>\n",
       "      <td>0.9561</td>\n",
       "      <td>0.9583</td>\n",
       "      <td>0.9692</td>\n",
       "      <td>0.9512</td>\n",
       "      <td>0.9415</td>\n",
       "      <td>0.9736</td>\n",
       "      <td>0.981</td>\n",
       "      <td>0.7739</td>\n",
       "      <td>0.9211</td>\n",
       "      <td>0.9483</td>\n",
       "      <td>0.9658</td>\n",
       "      <td>0.9815</td>\n",
       "      <td>0.9808</td>\n",
       "      <td>0.9711</td>\n",
       "      <td>0.9875</td>\n",
       "      <td>0.9492</td>\n",
       "    </tr>\n",
       "    <tr>\n",
       "      <th>2</th>\n",
       "      <td>Top 1</td>\n",
       "      <td>0.9603</td>\n",
       "      <td>0.9501</td>\n",
       "      <td>0.9717</td>\n",
       "      <td>0.9535</td>\n",
       "      <td>0.9583</td>\n",
       "      <td>0.9686</td>\n",
       "      <td>0.9534</td>\n",
       "      <td>0.9396</td>\n",
       "      <td>0.9723</td>\n",
       "      <td>0.981</td>\n",
       "      <td>0.7538</td>\n",
       "      <td>0.9181</td>\n",
       "      <td>0.9483</td>\n",
       "      <td>0.9645</td>\n",
       "      <td>0.9820</td>\n",
       "      <td>0.9830</td>\n",
       "      <td>0.9724</td>\n",
       "      <td>0.9875</td>\n",
       "      <td>0.9492</td>\n",
       "    </tr>\n",
       "  </tbody>\n",
       "</table>\n",
       "</div>"
      ],
      "text/plain": [
       "      Mode  accuracy    Male  Female  East Asian   White  Latino_Hispanic  \\\n",
       "0  Avg Sum    0.9582  0.9356  0.9835      0.9490  0.9650           0.9698   \n",
       "1    Top 2    0.9609  0.9498  0.9735      0.9561  0.9583           0.9692   \n",
       "2    Top 1    0.9603  0.9501  0.9717      0.9535  0.9583           0.9686   \n",
       "\n",
       "   Southeast Asian   Black  Indian  Middle Eastern     0-2     3-9   10-19  \\\n",
       "0           0.9428  0.9319  0.9690           0.981  0.7085  0.8975  0.9441   \n",
       "1           0.9512  0.9415  0.9736           0.981  0.7739  0.9211  0.9483   \n",
       "2           0.9534  0.9396  0.9723           0.981  0.7538  0.9181  0.9483   \n",
       "\n",
       "    20-29   30-39   40-49   50-59   60-69  more than 70  \n",
       "0  0.9688  0.9845  0.9815  0.9724  0.9907        0.9492  \n",
       "1  0.9658  0.9815  0.9808  0.9711  0.9875        0.9492  \n",
       "2  0.9645  0.9820  0.9830  0.9724  0.9875        0.9492  "
      ]
     },
     "execution_count": 15,
     "metadata": {},
     "output_type": "execute_result"
    }
   ],
   "source": [
    "rep_df = pd.DataFrame(rep_dict)\n",
    "rep_df.head()"
   ]
  },
  {
   "cell_type": "code",
   "execution_count": 3,
   "metadata": {},
   "outputs": [],
   "source": [
    "from bias_explorer.operations import report\n",
    "from bias_explorer.utils import dataloader, system"
   ]
  },
  {
   "cell_type": "code",
   "execution_count": 6,
   "metadata": {},
   "outputs": [
    {
     "name": "stdout",
     "output_type": "stream",
     "text": [
      "./data/fairface/predictions/openCLIP/ViT-L-14/openai/age_race_gender\n"
     ]
    }
   ],
   "source": [
    "conf = dataloader.load_config()\n",
    "conf['DataSource'] = 'openai'\n",
    "metric_name = conf['Metric']\n",
    "preds = system.concat_out_path(conf, 'Predictions')\n",
    "print(preds)"
   ]
  }
 ],
 "metadata": {
  "kernelspec": {
   "display_name": "clipenv",
   "language": "python",
   "name": "python3"
  },
  "language_info": {
   "codemirror_mode": {
    "name": "ipython",
    "version": 3
   },
   "file_extension": ".py",
   "mimetype": "text/x-python",
   "name": "python",
   "nbconvert_exporter": "python",
   "pygments_lexer": "ipython3",
   "version": "3.8.18"
  }
 },
 "nbformat": 4,
 "nbformat_minor": 2
}
