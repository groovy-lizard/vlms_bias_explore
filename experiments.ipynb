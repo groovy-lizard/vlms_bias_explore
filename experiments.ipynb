{
 "cells": [
  {
   "cell_type": "code",
   "execution_count": 1,
   "metadata": {},
   "outputs": [],
   "source": [
    "import json\n",
    "import numpy as np\n",
    "from bias_explorer.operations import report\n",
    "from bias_explorer.utils import system, dataloader\n",
    "import glob\n",
    "import os\n",
    "import pandas as pd"
   ]
  },
  {
   "cell_type": "code",
   "execution_count": 2,
   "metadata": {},
   "outputs": [],
   "source": [
    "report_path = './data/fairface/reports/openCLIP/ViT-L-14/laion400m_e31/age_race_gender/accuracy_report.csv'\n",
    "df = dataloader.load_df(report_path)"
   ]
  },
  {
   "cell_type": "code",
   "execution_count": 3,
   "metadata": {},
   "outputs": [
    {
     "name": "stdout",
     "output_type": "stream",
     "text": [
      "Top 10\n",
      "0.9601\n"
     ]
    }
   ],
   "source": [
    "best = df.loc[df['accuracy'].idxmax()]\n",
    "best_mode = best['Mode']\n",
    "best_acc = best['accuracy']\n",
    "print(best_mode)\n",
    "print(best_acc)"
   ]
  },
  {
   "cell_type": "code",
   "execution_count": 4,
   "metadata": {},
   "outputs": [],
   "source": [
    "def collect_reports(ds_path, ln, metric):\n",
    "    ds_list = os.listdir(ds_path)\n",
    "    reports = {}\n",
    "    for dsource in ds_list:\n",
    "        report_path = f\"{ds_path}/{dsource}/{ln}/{metric}_report.csv\"\n",
    "        ds_df = dataloader.load_df(report_path)\n",
    "        ds_df = ds_df.drop(columns=['Unnamed: 0'])\n",
    "        reports[dsource] = ds_df\n",
    "    return reports"
   ]
  },
  {
   "cell_type": "code",
   "execution_count": 5,
   "metadata": {},
   "outputs": [],
   "source": [
    "conf = dataloader.load_config()\n",
    "model = conf['Model']\n",
    "backbone = conf['Backbone']\n",
    "report_path = conf['Reports']\n",
    "metric = conf['Metric']\n",
    "ln = system.grab_label_name(conf['Labels'])\n",
    "ds_path = f\"{report_path}/{model}/{backbone}\"\n"
   ]
  },
  {
   "cell_type": "code",
   "execution_count": 6,
   "metadata": {},
   "outputs": [],
   "source": [
    "reps = collect_reports(ds_path, ln, metric)"
   ]
  },
  {
   "cell_type": "code",
   "execution_count": 8,
   "metadata": {},
   "outputs": [],
   "source": [
    "filtered_reports = {}\n",
    "for dsname, df in reps.items():\n",
    "    filtered_reports[dsname] = df.loc[df['accuracy'].idxmax()]"
   ]
  },
  {
   "cell_type": "code",
   "execution_count": 16,
   "metadata": {},
   "outputs": [
    {
     "name": "stdout",
     "output_type": "stream",
     "text": [
      "1\n",
      "2\n",
      "3\n",
      "4\n",
      "5\n",
      "6\n",
      "7\n",
      "8\n",
      "9\n"
     ]
    }
   ],
   "source": [
    "for i in range(1, 10):\n",
    "    print(i)"
   ]
  }
 ],
 "metadata": {
  "kernelspec": {
   "display_name": "clipenv",
   "language": "python",
   "name": "python3"
  },
  "language_info": {
   "codemirror_mode": {
    "name": "ipython",
    "version": 3
   },
   "file_extension": ".py",
   "mimetype": "text/x-python",
   "name": "python",
   "nbconvert_exporter": "python",
   "pygments_lexer": "ipython3",
   "version": "3.8.18"
  }
 },
 "nbformat": 4,
 "nbformat_minor": 2
}
